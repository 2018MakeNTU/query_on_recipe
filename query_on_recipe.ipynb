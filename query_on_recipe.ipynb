{
 "cells": [
  {
   "cell_type": "code",
   "execution_count": 127,
   "metadata": {},
   "outputs": [],
   "source": [
    "import json, re\n",
    "import numpy as np\n",
    "from nltk.stem import WordNetLemmatizer"
   ]
  },
  {
   "cell_type": "markdown",
   "metadata": {},
   "source": [
    "# User query on single recipe"
   ]
  },
  {
   "cell_type": "code",
   "execution_count": 128,
   "metadata": {},
   "outputs": [],
   "source": [
    "wordnet_lemmatizer = WordNetLemmatizer()"
   ]
  },
  {
   "cell_type": "code",
   "execution_count": 160,
   "metadata": {},
   "outputs": [
    {
     "name": "stdout",
     "output_type": "stream",
     "text": [
      "Peel the potatoes and cut into 1/2-inch dice. Place in a medium saucepan and cover with cold water. Set over high heat, cover and bring to a boil. Once boiling, uncover, decrease the heat to maintain a simmer and cook until tender and easily crushed with tongs, approximately 10 to 15 minutes. Place the half-and-half and butter into a microwave-safe container and heat in the microwave until warmed through, about 35 seconds. Drain the potatoes in a colander and then return to the saucepan. Mash the potatoes and then add the half and half, butter, salt and pepper and continue to mash until smooth. Stir in the yolk until well combined.\n",
      "\n",
      "Preheat the oven to 400 degrees F.\n",
      "\n",
      "While the potatoes are cooking, prepare the filling. Place the canola oil into a 12-inch saute pan and set over medium high heat. Once the oil shimmers, add the onion and carrots and saute just until they begin to take on color, approximately 3 to 4 minutes. Add the garlic and stir to combine. Add the lamb, salt and pepper and cook until browned and cooked through, approximately 3 minutes. Sprinkle the meat with the flour and toss to coat, continuing to cook for another minute. Add the tomato paste, chicken broth, Worcestershire, rosemary, thyme, and stir to combine. Bring to a boil, reduce the heat to low, cover and simmer slowly 10 to 12 minutes or until the sauce is thickened slightly.\n",
      "\n",
      "Add the corn and peas to the lamb mixture and spread evenly into an 11 by 7-inch glass baking dish. Top with the mashed potatoes, starting around the edges to create a seal to prevent the mixture from bubbling up and smooth with a rubber spatula. Place on a parchment lined half sheet pan on the middle rack of the oven and bake for 25 minutes or just until the potatoes begin to brown. Remove to a cooling rack for at least 15 minutes before serving.\n"
     ]
    }
   ],
   "source": [
    "with open('recipes/shepherds_pie.txt', 'r') as recipe_file: # INPUT: recipe file .txt\n",
    "    recipe = recipe_file.read()\n",
    "    print(recipe)"
   ]
  },
  {
   "cell_type": "code",
   "execution_count": 184,
   "metadata": {},
   "outputs": [
    {
     "name": "stdout",
     "output_type": "stream",
     "text": [
      "MAX SIMILARITY: 2\n",
      "peel the potatoes and cut into 1/2-inch dice. place in a medium saucepan and cover with cold water. set over high heat, cover and bring to a boil\n"
     ]
    }
   ],
   "source": [
    "numberof_segments_after = 2 # INPUT: how many segments to read to user\n",
    "question = \"peel potatoes?\" # INPUT: user question\n",
    "question_lower_str = question.lower()\n",
    "recipe_segments_lower_list = [segment.lower() for segment in re.split('; |\\. |\\n', recipe)]\n",
    "\n",
    "max_similarity = 0\n",
    "answer = ''\n",
    "for idx, segment_lower_str in enumerate(recipe_segments_lower_list):\n",
    "    similarity_score = 0\n",
    "    segment_lower_nopunct_lemma_list = [wordnet_lemmatizer.lemmatize(re.sub(r'[^\\w\\s]','', seg_word), 'v') for seg_word in segment_lower_str.split()]\n",
    "    for question_word_lower in question_lower_str.split():\n",
    "        question_word_lower_nopunct = re.sub(r'[^\\w\\s]','', question_word_lower)\n",
    "        question_word_lower_nopunct_lemma = wordnet_lemmatizer.lemmatize(question_word_lower_nopunct, 'v')\n",
    "        if question_word_lower_nopunct_lemma in segment_lower_nopunct_lemma_list:\n",
    "            similarity_score += 1\n",
    "    if similarity_score > max_similarity:\n",
    "        answer = segment_lower_str\n",
    "        max_similarity = similarity_score\n",
    "        for i in range(1, numberof_segments_after+1):\n",
    "            if idx + i > len(recipe_segments_lower_list) - 1:\n",
    "                print('breaking!', idx + i)\n",
    "                break\n",
    "            answer += '. {}'.format(recipe_segments_lower_list[idx+i])\n",
    "print('MAX SIMILARITY:', max_similarity)\n",
    "print(answer)"
   ]
  },
  {
   "cell_type": "markdown",
   "metadata": {},
   "source": [
    "# BiDAF (ignore this for now)"
   ]
  },
  {
   "cell_type": "code",
   "execution_count": 22,
   "metadata": {},
   "outputs": [
    {
     "name": "stdout",
     "output_type": "stream",
     "text": [
      "BiDAF finished after 5.735774993896484 seconds\n",
      "CompletedProcess(args=['python3', '-m', 'allennlp.run', 'predict', 'pretrained/bidaf-model-2017.09.15-charpad.tar.gz', 'query.jsonl', '--output-file', 'query_output.json'], returncode=0)\n",
      "Preheat\n"
     ]
    }
   ],
   "source": [
    "query_to_json = {'passage': recipe,\n",
    "                 'question': \"What's after preheating the oven to 375?\"}\n",
    "with open('query.jsonl', 'w') as outfile:\n",
    "    json.dump(query_to_json, outfile)\n",
    "    outfile.write('\\n')\n",
    "\n",
    "a = time.time()\n",
    "run = subprocess.run('python3 -m allennlp.run predict pretrained/bidaf-model-2017.09.15-charpad.tar.gz query.jsonl --output-file query_output.json'.split())\n",
    "print('BiDAF finished after {} seconds'.format(time.time()-a))\n",
    "# print(run)\n",
    "\n",
    "with open('query_output.json', 'r') as f:\n",
    "    for row in f:\n",
    "        data = json.loads(row)\n",
    "        print('ANSWER:', data['best_span_str'])\n",
    "        break"
   ]
  },
  {
   "cell_type": "code",
   "execution_count": null,
   "metadata": {},
   "outputs": [],
   "source": []
  }
 ],
 "metadata": {
  "kernelspec": {
   "display_name": "Python 3",
   "language": "python",
   "name": "python3"
  },
  "language_info": {
   "codemirror_mode": {
    "name": "ipython",
    "version": 3
   },
   "file_extension": ".py",
   "mimetype": "text/x-python",
   "name": "python",
   "nbconvert_exporter": "python",
   "pygments_lexer": "ipython3",
   "version": "3.6.4"
  }
 },
 "nbformat": 4,
 "nbformat_minor": 2
}
